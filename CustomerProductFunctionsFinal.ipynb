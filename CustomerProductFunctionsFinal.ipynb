{
 "cells": [
  {
   "cell_type": "code",
   "execution_count": 434,
   "metadata": {
    "collapsed": true
   },
   "outputs": [],
   "source": [
    "import re\n",
    "import os\n",
    "import numpy as np\n",
    "import pandas as pd\n",
    "from datetime import datetime\n",
    "import time\n",
    "from datetime import datetime, timedelta\n",
    "from pytz import timezone\n",
    "import pytz\n",
    "from dateutil.parser import parse\n",
    "from collections import deque \n",
    "import csv"
   ]
  },
  {
   "cell_type": "code",
   "execution_count": 375,
   "metadata": {
    "collapsed": true
   },
   "outputs": [],
   "source": [
    "customers = pd.read_csv(\"/Users/haleyhowell/dicksData/ProductGenerator/CustomerData.csv\")\n",
    "\n",
    "# Haley Path: (uncomment and put your path here:)\n",
    "\n",
    "# customers = pd.read_csv(\"/Users/\")"
   ]
  },
  {
   "cell_type": "code",
   "execution_count": 433,
   "metadata": {
    "collapsed": false
   },
   "outputs": [],
   "source": [
    "products = pd.read_excel(\"/Users/haleyhowell/dicksData/ProductGenerator/finalproducts.xlsx\")\n",
    "    \n",
    "# Haley Path: (uncomment and put your path here:)\n",
    "\n",
    "# products = pd.read_csv(\"/Users/\")\n"
   ]
  },
  {
   "cell_type": "code",
   "execution_count": 515,
   "metadata": {
    "collapsed": false
   },
   "outputs": [],
   "source": [
    "def findItemsByCustomerName(custName):\n",
    "    returnList = []\n",
    "    items = set()\n",
    "    newString = ''\n",
    "    customer = customers.loc[customers['CustomerName'] == custName]\n",
    "    index = customer.index[0]\n",
    "    avg_tier = customer['AverageSpentTier'][index]\n",
    "\n",
    "    avg_category = customer['AverageCategory'][index].lower()\n",
    "    print(\"Customer category: \" + avg_category)\n",
    "    disc_tier = customer['DiscountTier'][index]\n",
    "    price_max = customer['AverageSpentPerTransaction'][index]+ (customer['AverageSpentPerTransaction'][index]*.20)\n",
    "    #print(customer[\"CustomerName\"][index] + \" \" + str(price_max))\n",
    "    inStoreConversionTier = customer['InStoreConversionTier'][index]\n",
    "    categories = products.columns[13:20]\n",
    "\n",
    "   \n",
    "\n",
    "    for product in products.iterrows():\n",
    "        product_category = ''\n",
    "        for category_name in categories:\n",
    "            if(product[1][category_name] == 1):\n",
    "                product_category = category_name.lower()\n",
    "\n",
    "        if(inStoreConversionTier > 2 and disc_tier > 2):\n",
    "            if(np.isnan(product[1]['prodOrrPrice']) == False and product[1]['prodSalePrice'] < price_max and avg_category.strip() == product_category.strip()):\n",
    "                if(str(product[1]['prodName']) not in newString):\n",
    "                    newString = newString +  \"Sale Price : $\"+str(product[1]['prodSalePrice'] ) + \",   \" + product_category + \"\\n\"\n",
    "                    newString = newString + \"Item Name >>> \" + product[1]['prodName'] +  \"\\n \\n\"\n",
    "                items.add(product[1]['prodName'])\n",
    "        if(inStoreConversionTier <= 2 and disc_tier > 2):\n",
    "            if(np.isnan(product[1]['prodOrrPrice']) == False and product[1]['prodSalePrice'] < price_max and avg_category.strip() == product_category.strip()):\n",
    "                if(str(product[1]['prodName']) not in newString):\n",
    "                    newString = newString + \"Sale Price $: \"+str(product[1]['prodSalePrice'] ) + \",   \" + product_category + \"\\n\"\n",
    "                    newString = newString + \"Item Name >>> \" + product[1]['prodName'] +   \"\\n \\n\"\n",
    "                items.add(product[1]['prodName'])\n",
    "        if(inStoreConversionTier <= 2 and disc_tier <= 2):\n",
    "            if(np.isnan(product[1]['prodStarRating']) == False and product[1]['prodSalePrice'] < price_max and avg_category.strip() == product_category.strip() ):\n",
    "                if(str(product[1]['prodName']) not in newString):\n",
    "                    newString = newString + \"** Top Rated Item : $\"+str(product[1]['prodSalePrice'] ) + \",   \" + product_category + \"\\n\"\n",
    "                    newString = newString + \"Item Name >>> \" + product[1]['prodName']  +   \"\\n \\n\"\n",
    "                items.add(product[1]['prodName'])\n",
    "        if(inStoreConversionTier > 2 and disc_tier <= 2):\n",
    "            if(product[1]['prodSalePrice'] < price_max and avg_category.strip() == product_category.strip()):\n",
    "                if(str(product[1]['prodName']) not in newString):\n",
    "                    newString = newString + \"Item Price: $\"+str(product[1]['prodSalePrice'] ) + \",   \" + product_category  +  \"\\n\"\n",
    "                    newString = newString + \"Item Name >>> \" + product[1]['prodName']  +   \"\\n \\n\"\n",
    "                items.add(product[1]['prodName'])\n",
    "             \n",
    "    \n",
    "    print(newString)\n",
    "    returnList.append(newString)\n",
    "    returnList.append(items)\n",
    "    return returnList\n",
    "\n",
    "             \n",
    "  \n",
    "        \n",
    "             \n",
    "  \n"
   ]
  },
  {
   "cell_type": "code",
   "execution_count": 520,
   "metadata": {
    "collapsed": false
   },
   "outputs": [
    {
     "name": "stdout",
     "output_type": "stream",
     "text": [
      "Customer category: shirts \n",
      "Sale Price : $25.0,   shirts\n",
      "Item Name >>> DSG Boys' Bar Stripe Golf Polo\n",
      " \n",
      "Sale Price : $65.0,   shirts\n",
      "Item Name >>> Levelwear Men's Colorado Avalanche Sway Red Polo\n",
      " \n",
      "Sale Price : $55.0,   shirts\n",
      "Item Name >>> Nike Men's Gonzaga Bulldogs Blue Varsity Polo\n",
      " \n",
      "Sale Price : $59.99,   shirts\n",
      "Item Name >>> Antigua Men's Detroit Lions Quest White Polo\n",
      " \n",
      "Sale Price : $54.99,   shirts\n",
      "Item Name >>> Walter Hagen Men's 11 Majors Nep Pique Golf Polo\n",
      " \n",
      "Sale Price : $56.97,   shirts\n",
      "Item Name >>> Levelwear Men's St. Louis Blues Elevate Navy Polo\n",
      " \n",
      "Sale Price : $52.97,   shirts\n",
      "Item Name >>> Levelwear Men's Colorado Avalanche Prevail Navy Quarter-Zip Pullover\n",
      " \n",
      "Sale Price : $52.97,   shirts\n",
      "Item Name >>> Levelwear Men's Buffalo Sabres Prevail Navy Quarter-Zip Pullover\n",
      " \n",
      "Sale Price : $52.97,   shirts\n",
      "Item Name >>> Levelwear Men's Tampa Bay Lightning Prevail Navy Quarter-Zip Pullover\n",
      " \n",
      "Sale Price : $52.97,   shirts\n",
      "Item Name >>> Levelwear Men's Washington Capitals Prevail Navy Quarter-Zip Pullover\n",
      " \n",
      "Sale Price : $48.97,   shirts\n",
      "Item Name >>> Levelwear Men's St. Louis Blues Sway Navy Polo\n",
      " \n",
      "Sale Price : $52.97,   shirts\n",
      "Item Name >>> Levelwear Men's Minnesota Wild Prevail Green Quarter-Zip Pullover\n",
      " \n",
      "Sale Price : $13.97,   shirts\n",
      "Item Name >>> Walter Hagen Men's 11 Majors Championship Stripe Golf Polo â€“ Big & Tall\n",
      " \n",
      "Sale Price : $52.97,   shirts\n",
      "Item Name >>> Levelwear Men's St. Louis Blues Prevail Navy Quarter-Zip Pullover\n",
      " \n",
      "Sale Price : $52.97,   shirts\n",
      "Item Name >>> Levelwear Men's Nashville Predators Prevail Navy Quarter-Zip Pullover\n",
      " \n",
      "Sale Price : $23.33,   shirts\n",
      "Item Name >>> FootJoy Space Dye Lisle Polo\n",
      " \n",
      "\n"
     ]
    }
   ],
   "source": [
    "list1 = findItemsByCustomerName('customer6')"
   ]
  },
  {
   "cell_type": "code",
   "execution_count": 522,
   "metadata": {
    "collapsed": false
   },
   "outputs": [
    {
     "name": "stdout",
     "output_type": "stream",
     "text": [
      "{\"Levelwear Men's Buffalo Sabres Prevail Navy Quarter-Zip Pullover\", \"Levelwear Men's Colorado Avalanche Prevail Navy Quarter-Zip Pullover\", \"Nike Men's Gonzaga Bulldogs Blue Varsity Polo\", \"Walter Hagen Men's 11 Majors Nep Pique Golf Polo\", \"Levelwear Men's Washington Capitals Prevail Navy Quarter-Zip Pullover\", \"DSG Boys' Bar Stripe Golf Polo\", 'FootJoy Space Dye Lisle Polo', \"Levelwear Men's Tampa Bay Lightning Prevail Navy Quarter-Zip Pullover\", \"Walter Hagen Men's 11 Majors Championship Stripe Golf Polo â€“ Big & Tall\", \"Levelwear Men's Colorado Avalanche Sway Red Polo\", \"Levelwear Men's St. Louis Blues Elevate Navy Polo\", \"Levelwear Men's Minnesota Wild Prevail Green Quarter-Zip Pullover\", \"Levelwear Men's Nashville Predators Prevail Navy Quarter-Zip Pullover\", \"Antigua Men's Detroit Lions Quest White Polo\", \"Levelwear Men's St. Louis Blues Prevail Navy Quarter-Zip Pullover\", \"Levelwear Men's St. Louis Blues Sway Navy Polo\"}\n"
     ]
    }
   ],
   "source": [
    "print(list1[1] )"
   ]
  }
 ],
 "metadata": {
  "kernelspec": {
   "display_name": "Python 3",
   "language": "python",
   "name": "python3"
  },
  "language_info": {
   "codemirror_mode": {
    "name": "ipython",
    "version": 3
   },
   "file_extension": ".py",
   "mimetype": "text/x-python",
   "name": "python",
   "nbconvert_exporter": "python",
   "pygments_lexer": "ipython3",
   "version": "3.7.0"
  }
 },
 "nbformat": 4,
 "nbformat_minor": 2
}
